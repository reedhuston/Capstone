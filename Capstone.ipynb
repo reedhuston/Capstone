{
 "cells": [
  {
   "cell_type": "markdown",
   "metadata": {},
   "source": [
    "### Capstone: Predicting NFL play calls."
   ]
  },
  {
   "cell_type": "code",
   "execution_count": 1,
   "metadata": {},
   "outputs": [],
   "source": [
    "#imports\n",
    "import pandas as pd"
   ]
  },
  {
   "cell_type": "code",
   "execution_count": 2,
   "metadata": {},
   "outputs": [],
   "source": [
    "#reading in data\n",
    "plays_2020 = pd.read_csv('Data/pbp-2020.csv')"
   ]
  },
  {
   "cell_type": "markdown",
   "metadata": {},
   "source": [
    "## Data-Cleaning"
   ]
  },
  {
   "cell_type": "code",
   "execution_count": 3,
   "metadata": {},
   "outputs": [],
   "source": [
    "#selecting only run and pass plays\n",
    "all_run_pass = plays_2020[(plays_2020['PlayType']=='RUSH') | (plays_2020['PlayType']=='PASS')]"
   ]
  },
  {
   "cell_type": "code",
   "execution_count": 4,
   "metadata": {},
   "outputs": [],
   "source": [
    "#selecting plays that that had no penalties, challenges, or extra points\n",
    "all_run_pass = all_run_pass[(all_run_pass['IsChallenge']==0) & (all_run_pass['IsPenalty']==0) & (all_run_pass['IsTwoPointConversion']==0) & (all_run_pass['IsNoPlay']==0)]"
   ]
  },
  {
   "cell_type": "code",
   "execution_count": 5,
   "metadata": {},
   "outputs": [],
   "source": [
    "#dropping unnecessary columns\n",
    "all_run_pass.drop(columns=['GameId','Unnamed: 10','Unnamed: 12','TeamWin','Unnamed: 16','Unnamed: 17','SeasonYear','IsIncomplete','IsTouchdown','IsSack','IsChallenge','IsChallengeReversed','Challenger','IsMeasurement','IsInterception','IsFumble','RushDirection','PassType','IsPenalty','IsTwoPointConversion','IsTwoPointConversionSuccessful','IsPenaltyAccepted','PenaltyTeam','IsNoPlay','PenaltyType','PenaltyYards'],inplace=True)"
   ]
  },
  {
   "cell_type": "code",
   "execution_count": 6,
   "metadata": {},
   "outputs": [
    {
     "data": {
      "text/plain": [
       "PASS    0.589554\n",
       "RUSH    0.410446\n",
       "Name: PlayType, dtype: float64"
      ]
     },
     "execution_count": 6,
     "metadata": {},
     "output_type": "execute_result"
    }
   ],
   "source": [
    "#getting baseline rate for the data\n",
    "all_run_pass['PlayType'].value_counts(normalize=True)"
   ]
  },
  {
   "cell_type": "markdown",
   "metadata": {},
   "source": [
    "## EDA"
   ]
  },
  {
   "cell_type": "code",
   "execution_count": 8,
   "metadata": {},
   "outputs": [],
   "source": [
    "forty9ers_2020 = all_run_pass[all_run_pass['OffenseTeam']=='SF']"
   ]
  },
  {
   "cell_type": "code",
   "execution_count": 9,
   "metadata": {},
   "outputs": [
    {
     "data": {
      "text/plain": [
       "PASS    0.572614\n",
       "RUSH    0.427386\n",
       "Name: PlayType, dtype: float64"
      ]
     },
     "execution_count": 9,
     "metadata": {},
     "output_type": "execute_result"
    }
   ],
   "source": [
    "forty9ers_2020['PlayType'].value_counts(normalize=True)"
   ]
  },
  {
   "cell_type": "code",
   "execution_count": 10,
   "metadata": {},
   "outputs": [],
   "source": [
    "steelers_2020 = all_run_pass[all_run_pass['OffenseTeam']=='PIT']"
   ]
  },
  {
   "cell_type": "code",
   "execution_count": 12,
   "metadata": {},
   "outputs": [
    {
     "data": {
      "text/plain": [
       "PASS    0.654043\n",
       "RUSH    0.345957\n",
       "Name: PlayType, dtype: float64"
      ]
     },
     "execution_count": 12,
     "metadata": {},
     "output_type": "execute_result"
    }
   ],
   "source": [
    "steelers_2020['PlayType'].value_counts(normalize=True)"
   ]
  },
  {
   "cell_type": "code",
   "execution_count": 14,
   "metadata": {},
   "outputs": [],
   "source": [
    "titans_2020 = all_run_pass[all_run_pass['OffenseTeam']=='TEN']"
   ]
  },
  {
   "cell_type": "code",
   "execution_count": null,
   "metadata": {},
   "outputs": [],
   "source": []
  },
  {
   "cell_type": "code",
   "execution_count": 16,
   "metadata": {},
   "outputs": [
    {
     "data": {
      "text/plain": [
       "Formation          PlayType\n",
       "NO HUDDLE          RUSH        1.000000\n",
       "NO HUDDLE SHOTGUN  PASS        0.875000\n",
       "                   RUSH        0.125000\n",
       "SHOTGUN            PASS        0.746518\n",
       "                   RUSH        0.253482\n",
       "UNDER CENTER       RUSH        0.847059\n",
       "                   PASS        0.152941\n",
       "Name: PlayType, dtype: float64"
      ]
     },
     "execution_count": 16,
     "metadata": {},
     "output_type": "execute_result"
    }
   ],
   "source": [
    "steelers_2020.groupby(by=['Formation'])['PlayType'].value_counts(normalize=True)"
   ]
  },
  {
   "cell_type": "code",
   "execution_count": null,
   "metadata": {},
   "outputs": [],
   "source": []
  }
 ],
 "metadata": {
  "kernelspec": {
   "display_name": "Python 3",
   "language": "python",
   "name": "python3"
  },
  "language_info": {
   "codemirror_mode": {
    "name": "ipython",
    "version": 3
   },
   "file_extension": ".py",
   "mimetype": "text/x-python",
   "name": "python",
   "nbconvert_exporter": "python",
   "pygments_lexer": "ipython3",
   "version": "3.8.5"
  }
 },
 "nbformat": 4,
 "nbformat_minor": 4
}
